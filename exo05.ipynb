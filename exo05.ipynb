{
 "cells": [
  {
   "cell_type": "code",
   "execution_count": 7,
   "id": "8c53e62d",
   "metadata": {},
   "outputs": [
    {
     "name": "stdout",
     "output_type": "stream",
     "text": [
      "Bmfy f xywnsl!\n"
     ]
    }
   ],
   "source": [
    "def caesar_cipher(strings, cypher_key):\n",
    "    codedString =\"\"\n",
    "    for string in strings:\n",
    "        string = ord(string) + cypher_key\n",
    "        if 65<= string <=90 or 97<= string <=122:\n",
    "            codedString +=chr(string)\n",
    "        elif 91<= string <=(90+cypher_key) or 123<= string <=(122+cypher_key):\n",
    "            codedString +=chr(string-26)\n",
    "        else:\n",
    "            codedString +=chr(string-cypher_key)\n",
    "    print(codedString)\n",
    "    \n",
    "caesar_cipher(\"What a string!\", 5)"
   ]
  },
  {
   "cell_type": "code",
   "execution_count": null,
   "id": "4172af37",
   "metadata": {},
   "outputs": [],
   "source": []
  }
 ],
 "metadata": {
  "kernelspec": {
   "display_name": "Python 3 (ipykernel)",
   "language": "python",
   "name": "python3"
  },
  "language_info": {
   "codemirror_mode": {
    "name": "ipython",
    "version": 3
   },
   "file_extension": ".py",
   "mimetype": "text/x-python",
   "name": "python",
   "nbconvert_exporter": "python",
   "pygments_lexer": "ipython3",
   "version": "3.11.3"
  }
 },
 "nbformat": 4,
 "nbformat_minor": 5
}
