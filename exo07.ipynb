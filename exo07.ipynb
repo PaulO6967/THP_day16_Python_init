{
 "cells": [
  {
   "cell_type": "code",
   "execution_count": 31,
   "id": "69f307b1",
   "metadata": {},
   "outputs": [
    {
     "name": "stdout",
     "output_type": "stream",
     "text": [
      "Bmfy f xywnsl!\n"
     ]
    }
   ],
   "source": [
    "def caesar_cipher(strings, key_value):\n",
    "    strings_cyphed = \"\"\n",
    "    for string in strings:\n",
    "        string = ord(string) + key_value\n",
    "        if 65<=string<=90 or 97<=string<=122:\n",
    "            strings_cyphed += chr(string)\n",
    "        elif 91<=string<=(90+key_value) or 123<=string<=(122+key_value):\n",
    "            strings_cyphed += chr(string-26)\n",
    "        else:\n",
    "            strings_cyphed += chr(string-key_value)\n",
    "    print(strings_cyphed)\n",
    "\n",
    "caesar_cipher(\"What a string!\", 5)"
   ]
  },
  {
   "cell_type": "code",
   "execution_count": null,
   "id": "3c4b8626",
   "metadata": {},
   "outputs": [],
   "source": []
  },
  {
   "cell_type": "code",
   "execution_count": null,
   "id": "189a21ed",
   "metadata": {},
   "outputs": [],
   "source": []
  }
 ],
 "metadata": {
  "kernelspec": {
   "display_name": "Python 3 (ipykernel)",
   "language": "python",
   "name": "python3"
  },
  "language_info": {
   "codemirror_mode": {
    "name": "ipython",
    "version": 3
   },
   "file_extension": ".py",
   "mimetype": "text/x-python",
   "name": "python",
   "nbconvert_exporter": "python",
   "pygments_lexer": "ipython3",
   "version": "3.11.3"
  }
 },
 "nbformat": 4,
 "nbformat_minor": 5
}
