{
 "cells": [
  {
   "cell_type": "code",
   "execution_count": 29,
   "id": "37fd4874",
   "metadata": {},
   "outputs": [
    {
     "data": {
      "text/plain": [
       "{'down': 1,\n",
       " 'go': 1,\n",
       " 'going': 1,\n",
       " 'how': 2,\n",
       " 'howdy': 1,\n",
       " 'it': 2,\n",
       " 'i': 3,\n",
       " 'own': 1,\n",
       " 'part': 1,\n",
       " 'partner': 1,\n",
       " 'sit': 1}"
      ]
     },
     "execution_count": 29,
     "metadata": {},
     "output_type": "execute_result"
    }
   ],
   "source": [
    "reference = [\"below\", \"down\", \"go\", \"going\", \"horn\", \"how\", \"howdy\", \"it\", \"i\", \"low\", \"own\", \"part\", \"partner\", \"sit\"]\n",
    "\n",
    "def word_counter(strings, reference):\n",
    "    strings = strings.lower().split()\n",
    "    result ={}\n",
    "    for word in reference:\n",
    "        i=0\n",
    "        for string in strings:\n",
    "            if word in string:\n",
    "                i += 1\n",
    "        if i != 0 :\n",
    "            result[word] = i\n",
    "    return(result)\n",
    "\n",
    "\n",
    "word_counter(\"Howdy partner, sit down! How's it going?\", reference)"
   ]
  },
  {
   "cell_type": "code",
   "execution_count": null,
   "id": "46fe6913",
   "metadata": {},
   "outputs": [],
   "source": []
  }
 ],
 "metadata": {
  "kernelspec": {
   "display_name": "Python 3 (ipykernel)",
   "language": "python",
   "name": "python3"
  },
  "language_info": {
   "codemirror_mode": {
    "name": "ipython",
    "version": 3
   },
   "file_extension": ".py",
   "mimetype": "text/x-python",
   "name": "python",
   "nbconvert_exporter": "python",
   "pygments_lexer": "ipython3",
   "version": "3.11.3"
  }
 },
 "nbformat": 4,
 "nbformat_minor": 5
}
