{
 "cells": [
  {
   "cell_type": "code",
   "execution_count": 13,
   "id": "2d8dff77",
   "metadata": {},
   "outputs": [
    {
     "name": "stdout",
     "output_type": "stream",
     "text": [
      "hello world!\n",
      "h\n",
      "!\n",
      "el\n",
      "lo world\n",
      "True\n"
     ]
    }
   ],
   "source": [
    "bonjour = \"hello world!\"\n",
    "print(bonjour)\n",
    "print(bonjour[0])\n",
    "print(bonjour[-1])\n",
    "print(bonjour[1:3])\n",
    "print(bonjour[3:-1])\n",
    "print(bonjour.startswith(\"hel\"))"
   ]
  },
  {
   "cell_type": "code",
   "execution_count": null,
   "id": "508112eb",
   "metadata": {},
   "outputs": [],
   "source": []
  }
 ],
 "metadata": {
  "kernelspec": {
   "display_name": "Python 3 (ipykernel)",
   "language": "python",
   "name": "python3"
  },
  "language_info": {
   "codemirror_mode": {
    "name": "ipython",
    "version": 3
   },
   "file_extension": ".py",
   "mimetype": "text/x-python",
   "name": "python",
   "nbconvert_exporter": "python",
   "pygments_lexer": "ipython3",
   "version": "3.11.3"
  }
 },
 "nbformat": 4,
 "nbformat_minor": 5
}
