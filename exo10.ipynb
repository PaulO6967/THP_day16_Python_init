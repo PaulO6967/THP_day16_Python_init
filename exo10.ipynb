{
 "cells": [
  {
   "cell_type": "code",
   "execution_count": 35,
   "id": "42c089a4",
   "metadata": {},
   "outputs": [
    {
     "data": {
      "text/plain": [
       "{'the': 51859,\n",
       " 'of': 20609,\n",
       " 'and': 32647,\n",
       " 'to': 29402,\n",
       " 'a': 271278,\n",
       " 'in': 53054,\n",
       " 'for': 13993,\n",
       " 'is': 36663,\n",
       " 'on': 33114,\n",
       " 'that': 11553,\n",
       " 'by': 4987,\n",
       " 'this': 6916,\n",
       " 'with': 9201,\n",
       " 'i': 238146,\n",
       " 'you': 22205,\n",
       " 'it': 29509,\n",
       " 'not': 10951,\n",
       " 'or': 40420,\n",
       " 'be': 20743,\n",
       " 'are': 6583}"
      ]
     },
     "execution_count": 35,
     "metadata": {},
     "output_type": "execute_result"
    }
   ],
   "source": [
    "reference = [\"the\", \"of\", \"and\", \"to\", \"a\", \"in\", \"for\", \"is\", \"on\", \"that\", \"by\", \"this\", \"with\", \"i\", \"you\", \"it\", \"not\", \"or\", \"be\", \"are\"]\n",
    "file = open(\"./shakespeare.txt\",\"rt\").read()\n",
    "\n",
    "def word_counter(strings, reference):\n",
    "    strings = strings.lower().split()\n",
    "    result ={}\n",
    "    for word in reference:\n",
    "        i=0\n",
    "        for string in strings:\n",
    "            if word in string:\n",
    "                i += 1\n",
    "        if i != 0 :\n",
    "            result[word] = i\n",
    "    return(result)\n",
    "\n",
    "word_counter(file,reference)"
   ]
  },
  {
   "cell_type": "code",
   "execution_count": null,
   "id": "5f78c365",
   "metadata": {},
   "outputs": [],
   "source": []
  }
 ],
 "metadata": {
  "kernelspec": {
   "display_name": "Python 3 (ipykernel)",
   "language": "python",
   "name": "python3"
  },
  "language_info": {
   "codemirror_mode": {
    "name": "ipython",
    "version": 3
   },
   "file_extension": ".py",
   "mimetype": "text/x-python",
   "name": "python",
   "nbconvert_exporter": "python",
   "pygments_lexer": "ipython3",
   "version": "3.11.3"
  }
 },
 "nbformat": 4,
 "nbformat_minor": 5
}
