{
 "cells": [
  {
   "cell_type": "code",
   "execution_count": 12,
   "id": "3b8f9b96",
   "metadata": {},
   "outputs": [
    {
     "data": {
      "text/plain": [
       "(8, 5)"
      ]
     },
     "execution_count": 12,
     "metadata": {},
     "output_type": "execute_result"
    }
   ],
   "source": [
    "def day_trader(prices):\n",
    "    min_price = prices[0]\n",
    "    max_profit = 0\n",
    "    buy_day, sell_day = 0, 0\n",
    "\n",
    "    for i in range(1, len(prices)):\n",
    "        if prices[i] < min_price:\n",
    "            min_price = prices[i]\n",
    "            buy_day = i\n",
    "\n",
    "        profit = prices[i] - min_price\n",
    "        if profit > max_profit:\n",
    "            max_profit = profit\n",
    "            sell_day = i\n",
    "\n",
    "    return buy_day + 1, sell_day + 1  # +1 car les jours commencent à partir de 1 (et non de 0)\n",
    "\n",
    "\n",
    "day_trader([17, 3, 6, 9, 15, 8, 6, 1, 10])"
   ]
  },
  {
   "cell_type": "code",
   "execution_count": null,
   "id": "91b31b96",
   "metadata": {},
   "outputs": [],
   "source": []
  }
 ],
 "metadata": {
  "kernelspec": {
   "display_name": "Python 3 (ipykernel)",
   "language": "python",
   "name": "python3"
  },
  "language_info": {
   "codemirror_mode": {
    "name": "ipython",
    "version": 3
   },
   "file_extension": ".py",
   "mimetype": "text/x-python",
   "name": "python",
   "nbconvert_exporter": "python",
   "pygments_lexer": "ipython3",
   "version": "3.11.3"
  }
 },
 "nbformat": 4,
 "nbformat_minor": 5
}
