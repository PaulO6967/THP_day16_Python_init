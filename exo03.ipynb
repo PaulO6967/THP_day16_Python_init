{
 "cells": [
  {
   "cell_type": "code",
   "execution_count": 5,
   "id": "3d66df57",
   "metadata": {},
   "outputs": [
    {
     "name": "stdout",
     "output_type": "stream",
     "text": [
      "Quelle est ton age ?70\n",
      "vous etes majeur\n"
     ]
    }
   ],
   "source": [
    "userPrompt = input(\"Quelle est ton age ?\")\n",
    "if int(userPrompt) >=18:\n",
    "    print(\"vous etes majeur\")\n",
    "else: \n",
    "    print(\"vous etes mineur\")"
   ]
  },
  {
   "cell_type": "code",
   "execution_count": 7,
   "id": "d46bc2ee",
   "metadata": {},
   "outputs": [
    {
     "name": "stdout",
     "output_type": "stream",
     "text": [
      "Donne moi un chiffre, sltp3\n",
      "3 est impair\n"
     ]
    }
   ],
   "source": [
    "userPrompt2 = input(\"Donne moi un chiffre, sltp\")\n",
    "if int(userPrompt2)%2 ==0:\n",
    "    print(userPrompt2,\"est pair\")\n",
    "else:\n",
    "    print(userPrompt2,\"est impair\")"
   ]
  },
  {
   "cell_type": "code",
   "execution_count": null,
   "id": "b19d59e6",
   "metadata": {},
   "outputs": [],
   "source": []
  },
  {
   "cell_type": "code",
   "execution_count": null,
   "id": "cc56b79f",
   "metadata": {},
   "outputs": [],
   "source": []
  }
 ],
 "metadata": {
  "kernelspec": {
   "display_name": "Python 3 (ipykernel)",
   "language": "python",
   "name": "python3"
  },
  "language_info": {
   "codemirror_mode": {
    "name": "ipython",
    "version": 3
   },
   "file_extension": ".py",
   "mimetype": "text/x-python",
   "name": "python",
   "nbconvert_exporter": "python",
   "pygments_lexer": "ipython3",
   "version": "3.11.3"
  }
 },
 "nbformat": 4,
 "nbformat_minor": 5
}
